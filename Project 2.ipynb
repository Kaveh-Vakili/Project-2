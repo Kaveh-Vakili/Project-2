{
 "cells": [
  {
   "cell_type": "code",
   "execution_count": 7,
   "metadata": {},
   "outputs": [],
   "source": [
    "\n",
    "import random\n",
    "\n",
    "def hangman():\n",
    "    #list of words\n",
    "    words = [\"WHDSPQZ\", 'XHO', 'TTDBFRT','QQJYF', 'ENQD', 'DNPK', 'CNTR', 'EHWHOD', 'TSVMOHOF', 'XNOCFQGTM']\n",
    "    position = random.randint(0,len(words)-1)\n",
    "    guessedWord=words[position].lower()\n",
    "    userWord = []\n",
    "    guessCount=0\n",
    "    print(\"Current guesses\")\n",
    "    for c in guessedWord:\n",
    "        if c ==\" \":\n",
    "            userWord.append(\" \")\n",
    "            print(\" \", end=\" \")\n",
    "        else:\n",
    "            userWord.append(\"_\")\n",
    "            print(\"_\",end=\" \")\n",
    "\n",
    "\n",
    "    while True:\n",
    "#number of attempts a user has\n",
    "        if(guessCount==20):\n",
    "        #enter new letter for guessed word\n",
    "            break\n",
    "        letter= input(\"\\nEnter your next letter to guess: \")\n",
    "        guessCount+=1\n",
    "        index=0\n",
    "        #check to see if letter is in word\n",
    "        for i in range(0,len(guessedWord)):\n",
    "            if(guessedWord[i]==letter):\n",
    "                userWord[i]=letter\n",
    "#import all the correct guessed words currently\n",
    "        print(\"Current guesses\")\n",
    "        print(\" \".join(userWord))\n",
    "    #fi all the words guessed print a message\n",
    "        if(guessedWord==\"\".join(userWord)):\n",
    "            print(\"You win :-)!! The hangman word is: \",guessedWord,'!')\n",
    "            break\n",
    "\n",
    "\n"
   ]
  },
  {
   "cell_type": "code",
   "execution_count": 8,
   "metadata": {},
   "outputs": [],
   "source": [
    "def decrypt(guessedWord):\n",
    "    plaintext=\"\"\n",
    "    for i in range(0,len(guessedWord)):\n",
    "        if i%2==0:\n",
    "            ciphertext_ascii=ord(guessedWord[i])\n",
    "            plaintext_ascii=ciphertext_ascii-1\n",
    "        else:\n",
    "            ciphertext_ascii=ord(guessedWord[i])\n",
    "            plaintext_ascii=ciphertext_ascii+1\n",
    "        plaintext+=chr(plaintext_ascii)\n",
    "        i+=1\n",
    "    return plaintext"
   ]
  },
  {
   "cell_type": "code",
   "execution_count": 9,
   "metadata": {},
   "outputs": [
    {
     "name": "stdout",
     "output_type": "stream",
     "text": [
      "Current guesses\n",
      "_ _ _ _ _ _ _ \n",
      "Enter your next letter to guess: t\n",
      "Current guesses\n",
      "t t _ _ _ _ t\n",
      "\n",
      "Enter your next letter to guess: d\n",
      "Current guesses\n",
      "t t d _ _ _ t\n",
      "\n",
      "Enter your next letter to guess: b\n",
      "Current guesses\n",
      "t t d b _ _ t\n",
      "\n",
      "Enter your next letter to guess: f\n",
      "Current guesses\n",
      "t t d b f _ t\n",
      "\n",
      "Enter your next letter to guess: r\n",
      "Current guesses\n",
      "t t d b f r t\n",
      "You win :-)!! The hangman word is:  ttdbfrt !\n",
      "The decrypted word is  dope\n"
     ]
    }
   ],
   "source": [
    "words = [\"WHDSPQZ\", 'XHO', 'TTDBFRT','QQJYF', 'ENQD', 'DNPK', 'CNTR', 'EHWHOD', 'TSVMOHOF', 'XNOCFQGTM']\n",
    "position = random.randint(0,len(words)-1)\n",
    "guessedWord=words[position].lower()\n",
    "hangman()\n",
    "print(\"The decrypted word is \",decrypt(guessedWord))"
   ]
  },
  {
   "cell_type": "code",
   "execution_count": 2,
   "metadata": {},
   "outputs": [
    {
     "name": "stdout",
     "output_type": "stream",
     "text": [
      "Current guesses\n",
      "_ _ _ _ \n",
      "Enter your next letter to guess: e\n",
      "Current guesses\n",
      "e _ _ _\n",
      "\n",
      "Enter your next letter to guess: h\n",
      "Current guesses\n",
      "e _ _ _\n",
      "\n",
      "Enter your next letter to guess: f\n",
      "Current guesses\n",
      "e _ _ _\n",
      "\n",
      "Enter your next letter to guess: n\n",
      "Current guesses\n",
      "e n _ _\n",
      "\n",
      "Enter your next letter to guess: q\n",
      "Current guesses\n",
      "e n q _\n",
      "\n",
      "Enter your next letter to guess: d\n",
      "Current guesses\n",
      "e n q d\n",
      "You win :-)!! The hangman word is:  enqd !\n"
     ]
    }
   ],
   "source": [
    "\n"
   ]
  },
  {
   "cell_type": "code",
   "execution_count": null,
   "metadata": {},
   "outputs": [],
   "source": []
  }
 ],
 "metadata": {
  "kernelspec": {
   "display_name": "Python 3",
   "language": "python",
   "name": "python3"
  },
  "language_info": {
   "codemirror_mode": {
    "name": "ipython",
    "version": 3
   },
   "file_extension": ".py",
   "mimetype": "text/x-python",
   "name": "python",
   "nbconvert_exporter": "python",
   "pygments_lexer": "ipython3",
   "version": "3.8.5"
  }
 },
 "nbformat": 4,
 "nbformat_minor": 4
}
